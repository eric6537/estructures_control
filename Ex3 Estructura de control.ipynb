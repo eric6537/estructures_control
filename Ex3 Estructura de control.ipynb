{
 "cells": [
  {
   "cell_type": "markdown",
   "metadata": {},
   "source": [
    "# Exercici 1"
   ]
  },
  {
   "cell_type": "code",
   "execution_count": 4,
   "metadata": {},
   "outputs": [
    {
     "name": "stdout",
     "output_type": "stream",
     "text": [
      "Aprovat\n"
     ]
    }
   ],
   "source": [
    "nota = 6.8\n",
    "\n",
    "if nota >10 or nota<0:\n",
    "    print(\"Nota incorrecta\")\n",
    "elif nota >=9:\n",
    "    print(\"Excel·lent\")\n",
    "elif nota >=7:\n",
    "    print(\"Notable\")\n",
    "elif nota >=5:\n",
    "    print(\"Aprovat\")\n",
    "else:\n",
    "    print(\"Suspès\")"
   ]
  },
  {
   "cell_type": "markdown",
   "metadata": {},
   "source": [
    "# Exercici 2"
   ]
  },
  {
   "cell_type": "code",
   "execution_count": 12,
   "metadata": {},
   "outputs": [
    {
     "name": "stdout",
     "output_type": "stream",
     "text": [
      "Introdueix un numero: 3\n",
      "Introdueix un altre numero: 6\n",
      "3.0  és menor que  6.0\n"
     ]
    }
   ],
   "source": [
    "num1=float(input(\"Introdueix un numero: \"))\n",
    "num2=float(input(\"Introdueix un altre numero: \"))\n",
    "if num1>num2:\n",
    "    print(num1,\" és més gran que \",num2)\n",
    "elif num1<num2:\n",
    "    print(num1,\" és menor que \",num2)\n",
    "else:\n",
    "    print(num1, \" i \", num2, \" són iguals\")"
   ]
  },
  {
   "cell_type": "markdown",
   "metadata": {},
   "source": [
    "# Exercici 3"
   ]
  },
  {
   "cell_type": "code",
   "execution_count": 16,
   "metadata": {},
   "outputs": [
    {
     "name": "stdout",
     "output_type": "stream",
     "text": [
      "Introdueix el teu nom: djafja\n",
      "Introdueix un nombre enter major que 0: -6\n",
      "Error, numero no vàlid\n"
     ]
    }
   ],
   "source": [
    "nom = input(\"Introdueix el teu nom: \")\n",
    "nom = nom+\" \"\n",
    "num = int(input(\"Introdueix un nombre enter major que 0: \"))\n",
    "if num<=0:\n",
    "    print(\"Error, numero no vàlid\")\n",
    "else:\n",
    "    print(nom*num)"
   ]
  },
  {
   "cell_type": "markdown",
   "metadata": {},
   "source": [
    "# Exercici 4"
   ]
  },
  {
   "cell_type": "code",
   "execution_count": 25,
   "metadata": {},
   "outputs": [
    {
     "name": "stdout",
     "output_type": "stream",
     "text": [
      "La llista és simètrica, i té  6  elements.\n"
     ]
    }
   ],
   "source": [
    "llista = [\"a\",\"b\",\"c\",\"d\",\"c\",\"b\",\"a\"]\n",
    "llista = [3,5,2,56,234,8,42]\n",
    "llista = [1,2,3,3,2,1]\n",
    "\n",
    "inversa = list(reversed(llista))\n",
    "if inversa == llista:\n",
    "    print(\"La llista és simètrica, i té \",len(llista),\" elements.\")\n",
    "else:\n",
    "    print(\"La llista no és simètrica.\")"
   ]
  },
  {
   "cell_type": "markdown",
   "metadata": {},
   "source": [
    "# Exercici 5"
   ]
  },
  {
   "cell_type": "code",
   "execution_count": 30,
   "metadata": {},
   "outputs": [
    {
     "name": "stdout",
     "output_type": "stream",
     "text": [
      "1 números coincideixen amb la seva posició.\n"
     ]
    }
   ],
   "source": [
    "llista = [3,5,2,56,234,8,42]\n",
    "#llista = [0,1,2,3,3,2,1]\n",
    "\n",
    "coincidencies=0\n",
    "for i in range(len(llista)):\n",
    "    if llista[i]==i:\n",
    "        coincidencies += 1\n",
    "        \n",
    "print(coincidencies,\"números coincideixen amb la seva posició.\")"
   ]
  }
 ],
 "metadata": {
  "kernelspec": {
   "display_name": "Python 3",
   "language": "python",
   "name": "python3"
  },
  "language_info": {
   "codemirror_mode": {
    "name": "ipython",
    "version": 3
   },
   "file_extension": ".py",
   "mimetype": "text/x-python",
   "name": "python",
   "nbconvert_exporter": "python",
   "pygments_lexer": "ipython3",
   "version": "3.8.3"
  }
 },
 "nbformat": 4,
 "nbformat_minor": 4
}
